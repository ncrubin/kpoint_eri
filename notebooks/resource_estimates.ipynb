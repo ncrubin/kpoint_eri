{
 "cells": [
  {
   "attachments": {},
   "cell_type": "markdown",
   "metadata": {},
   "source": [
    "# Estimating Fault Tolerant Reseources for Periodic Systems\n",
    "\n",
    "The resource estimation code provided in this module relies on pyscf to compute the required symmetry adapted molecular orbitals, one- and two-electron integrals, and, correlated wavefunction calculations to determine various thresholds. So to start the tutorial let's run a periodic restriced Hartree--Fock (RHF) simulation of diamond. \n",
    "\n",
    "We assume a knowledge of electronic structure theory for solids, and in particular an understanding that any results need to be converged to the infintie $k$-point and complete basis set limit. For the purposes of this tutorial we will focus on results far away from this limit and simulate simple systems in minimal basis sets use very small $k$-point meshes. The module also assumes the use of density fitted integrals and we use range-separated density fitting throughout. "
   ]
  },
  {
   "cell_type": "code",
   "execution_count": 3,
   "metadata": {},
   "outputs": [
    {
     "name": "stdout",
     "output_type": "stream",
     "text": [
      "SCF energy:  -10.391936097489468\n"
     ]
    }
   ],
   "source": [
    "from ase.build import bulk\n",
    "import numpy as np\n",
    "\n",
    "from pyscf.pbc import gto, scf\n",
    "from pyscf.pbc.tools import pyscf_ase\n",
    "\n",
    "\n",
    "# Build a 2 atom unit cell for carbon in the diamond structure near it's\n",
    "# equilibrium lattice constant.\n",
    "ase_atom = bulk(\"C\", \"diamond\", a=3.5)\n",
    "cell = gto.Cell()\n",
    "cell.atom = pyscf_ase.ase_atoms_to_pyscf(ase_atom)\n",
    "cell.a = ase_atom.cell[:].copy()\n",
    "# Using a minimal basis set for expediency.\n",
    "cell.basis = \"gth-szv\"\n",
    "cell.pseudo = \"gth-hf-rev\"\n",
    "cell.verbose = 0\n",
    "cell.build()\n",
    "\n",
    "# We are using a very small k-point mesh for speed purposes too.\n",
    "kmesh = [1, 1, 3]\n",
    "kpts = cell.make_kpts(kmesh)\n",
    "num_kpts = len(kpts)\n",
    "mf = scf.KRHF(cell, kpts).rs_density_fit() # Use range separated density fitting.\n",
    "mf.kernel()\n",
    "print(\"SCF energy: \", mf.e_tot)\n",
    "\n",
    "# converged SCF energy with: -10.39193609748544"
   ]
  },
  {
   "attachments": {},
   "cell_type": "markdown",
   "metadata": {},
   "source": [
    "Armed with our SCF solution we can now generate the one and two-electron integrals required to compute $\\lambda$."
   ]
  },
  {
   "cell_type": "code",
   "execution_count": 7,
   "metadata": {},
   "outputs": [],
   "source": [
    "# First build the one-body hamiltonian in the molecular orbital basis\n",
    "hcore_mo = [C.conj().T @ hk @ C for (C, hk) in zip(mf.mo_coeff, mf.get_hcore())]\n",
    "assert len(hcore_mo) == np.prod(kmesh)"
   ]
  },
  {
   "cell_type": "code",
   "execution_count": 13,
   "metadata": {},
   "outputs": [
    {
     "name": "stdout",
     "output_type": "stream",
     "text": [
      "(nkpts, nkpts) = (3, 3)\n",
      "(naux, nmo, nmo) = (108, 8, 8)\n"
     ]
    }
   ],
   "source": [
    "# Get molecular orbital \"Cholesky\" integrals from RSGDF object, these are just\n",
    "# 3-centre integrals (X|pq).\n",
    "from kpoint_eri.factorizations.pyscf_chol_from_df import cholesky_from_df_ints  \n",
    "chol = cholesky_from_df_ints(mf) \n",
    "print(\"(nkpts, nkpts) = {}\".format(chol.shape))\n",
    "print(\"(naux, nmo, nmo) = {}\".format(chol[0,0].shape))"
   ]
  },
  {
   "attachments": {},
   "cell_type": "markdown",
   "metadata": {},
   "source": [
    "# Hamiltonian Representation\n",
    "The resource estimation module provides four representations for the Hamiltonian: sparse, single-factorization, double-factorization, and tensor hypercontraction (THC). Each of these approaches introduces a different parameter which controls the accuracy of the factorization. Recall that we have\n",
    "\n",
    "## Sparse Hamiltonian\n",
    "\n",
    "$$\n",
    "\n",
    "H = \\sum_{pq\\mathrm{k}} h_{pq}(\\mathrm{k}) a\n",
    "\n",
    "$$"
   ]
  },
  {
   "cell_type": "markdown",
   "metadata": {},
   "source": []
  }
 ],
 "metadata": {
  "kernelspec": {
   "display_name": "kpoint_eri",
   "language": "python",
   "name": "python3"
  },
  "language_info": {
   "codemirror_mode": {
    "name": "ipython",
    "version": 3
   },
   "file_extension": ".py",
   "mimetype": "text/x-python",
   "name": "python",
   "nbconvert_exporter": "python",
   "pygments_lexer": "ipython3",
   "version": "3.10.8"
  },
  "orig_nbformat": 4
 },
 "nbformat": 4,
 "nbformat_minor": 2
}
