{
 "cells": [
  {
   "attachments": {},
   "cell_type": "markdown",
   "metadata": {},
   "source": [
    "# Estimating Fault Tolerant Reseources for Periodic Systems\n",
    "\n",
    "The resource estimation code provided in this module relies on pyscf to compute the required symmetry adapted molecular orbitals, one- and two-electron integrals, and, correlated wavefunction calculations to determine various thresholds. So to start the tutorial let's run a periodic restriced Hartree--Fock (RHF) simulation of diamond. \n",
    "\n",
    "We assume a knowledge of electronic structure theory for solids, and in particular an understanding that any results need to be converged to the infintie $k$-point and complete basis set limit. For the purposes of this tutorial we will focus on results far away from this limit and simulate simple systems in minimal basis sets use very small $k$-point meshes. The module also assumes the use of density fitted integrals and we use range-separated density fitting throughout. "
   ]
  },
  {
   "cell_type": "code",
   "execution_count": 24,
   "metadata": {},
   "outputs": [
    {
     "name": "stdout",
     "output_type": "stream",
     "text": [
      "SCF energy:  -10.39193609745196\n"
     ]
    }
   ],
   "source": [
    "from ase.build import bulk\n",
    "import numpy as np\n",
    "\n",
    "from pyscf.pbc import gto, scf\n",
    "from pyscf.pbc.tools import pyscf_ase\n",
    "\n",
    "\n",
    "# Build a 2 atom unit cell for carbon in the diamond structure near it's\n",
    "# equilibrium lattice constant.\n",
    "ase_atom = bulk(\"C\", \"diamond\", a=3.5)\n",
    "cell = gto.Cell()\n",
    "cell.atom = pyscf_ase.ase_atoms_to_pyscf(ase_atom)\n",
    "cell.a = ase_atom.cell[:].copy()\n",
    "# Using a minimal basis set for expediency.\n",
    "cell.basis = \"gth-szv\"\n",
    "cell.pseudo = \"gth-hf-rev\"\n",
    "cell.verbose = 0\n",
    "cell.build()\n",
    "\n",
    "# We are using a very small k-point mesh for speed purposes too.\n",
    "kmesh = [1, 1, 3]\n",
    "kpts = cell.make_kpts(kmesh)\n",
    "num_kpts = len(kpts)\n",
    "mf = scf.KRHF(cell, kpts).rs_density_fit() # Use range separated density fitting.\n",
    "mf.kernel()\n",
    "print(\"SCF energy: \", mf.e_tot)\n",
    "\n",
    "# converged SCF energy with: -10.39193609748544"
   ]
  },
  {
   "attachments": {},
   "cell_type": "markdown",
   "metadata": {},
   "source": [
    "Armed with our SCF solution we can now generate the one and two-electron integrals required to compute $\\lambda$."
   ]
  },
  {
   "cell_type": "code",
   "execution_count": 25,
   "metadata": {},
   "outputs": [
    {
     "name": "stdout",
     "output_type": "stream",
     "text": [
      "(nkpts, nmo, nmo) = (3, 8, 8)\n",
      "(nkpts, nkpts) = (3, 3)\n",
      "(naux, nmo, nmo) = (108, 8, 8)\n"
     ]
    }
   ],
   "source": [
    "from kpoint_eri.factorizations.hamiltonian_utils import build_hamiltonian\n",
    "# Get molecular orbital \"Cholesky\" integrals from RSGDF object, these are just\n",
    "# 3-centre integrals (X|pq).\n",
    "hcore_mo, LXpq = build_hamiltonian(mf)\n",
    "print(\"(nkpts, nmo, nmo) = {}\".format(hcore_mo.shape))\n",
    "print(\"(nkpts, nkpts) = {}\".format(LXpq.shape))\n",
    "print(\"(naux, nmo, nmo) = {}\".format(LXpq[0,0].shape))\n",
    "num_mo = hcore_mo.shape[-1]\n",
    "num_aux = LXpq[0,0].shape[0]"
   ]
  },
  {
   "attachments": {},
   "cell_type": "markdown",
   "metadata": {},
   "source": [
    "# Hamiltonian Representation\n",
    "The resource estimation module provides four representations for the Hamiltonian: sparse, single-factorization, double-factorization, and tensor hypercontraction (THC). Each of these approaches introduces a different parameter which controls the accuracy of the factorization. Recall that we have\n",
    "\n",
    "## Sparse Hamiltonian\n",
    "\n",
    "The sparse Hamiltonian takes the usual form for a second-quantized $k$-point dependent Hamiltonian\n",
    "\n",
    "$$\n",
    "\n",
    "H = \\sum_{pq\\mathrm{k}} h_{pq}(\\mathrm{k}) a_{p\\mathbf{k}}^{\\dagger} a_{q\\mathbf{k}} + \\frac{1}{2} \\sum_{\\mathbf{k}_p\\mathbf{k}_q\\mathbf{k}_r\\mathbf{k}_s}\\sum_{pqrs} (p\\mathbf{k}_pq\\mathbf{k}_q|r\\mathbf{k}_rs\\mathbf{k}_s)  a_{p\\mathbf{k}_p}^{\\dagger} a_{r\\mathbf{k}_r}^{\\dagger} a_{s\\mathbf{k}_s}a_{q\\mathbf{k}_q} \n",
    "\n",
    "$$\n",
    "\n",
    "Utilizing conservation of crystal momentum $\\mathbf{k}_p + \\mathbf{k}_r - \\mathbf{k}_q -\\mathbf{k}_s = \\mathbf{G}$, where $\\mathbf{G}$ is a reciprocal lattice vector we can write \n",
    "\n",
    "$$\n",
    "\n",
    "H = \\sum_{pq\\mathrm{k}} h_{pq}(\\mathrm{k}) a_{p\\mathbf{k}}^{\\dagger} a_{q\\mathbf{k}} + \\frac{1}{2} \\sum_{\\mathbf{Q}\\mathbf{k}\\mathbf{k}'}\\sum_{pqrs} (p\\mathbf{k}q\\mathbf{k}-\\mathbf{Q}|r\\mathbf{k}'-\\mathbf{Q}s\\mathbf{k}')  a_{p\\mathbf{k}}^{\\dagger} a_{r\\mathbf{k}'-\\mathbf{Q}}^{\\dagger} a_{s\\mathbf{k}'}a_{q\\mathbf{k}-\\mathbf{Q}} \n",
    "\n",
    "$$\n",
    "\n",
    "where $\\mathbf{Q}$ is the momentum transfer vector which we chose to live in our set of $k$-points. Note the subtraction in the above expression is really modulo a $\\mathbf{G}$ vector.\n",
    "\n",
    "The Hamiltonian above has $N_k^3 N^4$ terms, where $N_k$ is the number of $k$-points and $N$ is the number of spin orbitals. The sparse representation attempts to approximate the Hamiltonian by zeroing elements of $H$ which are below some threshold. This will yield $\\mathcal{O}(s N_k^3 N^4)$ terms where $s$ is some sparsity factor.\n",
    "\n",
    "We provide helper functions that will sparsify the Hamiltonian in order to perform resource estimates.\n"
   ]
  },
  {
   "cell_type": "code",
   "execution_count": 26,
   "metadata": {},
   "outputs": [
    {
     "name": "stdout",
     "output_type": "stream",
     "text": [
      "Total number of elements N_k^3 N^4 = 110592\n",
      "number of symmetry unique non zero = 17087\n"
     ]
    }
   ],
   "source": [
    "from kpoint_eri.resource_estimates.sparse.integral_helper_sparse import SparseFactorizationHelper \n",
    "sparse_ham = SparseFactorizationHelper(LXpq, mf, threshold=1e-3)\n",
    "# look at eri block\n",
    "kpts = [0]*4\n",
    "eri_approx = sparse_ham.get_eri(kpts)\n",
    "eri_exact = sparse_ham.get_eri_exact(kpts)\n",
    "assert not np.allclose(eri_approx, eri_exact)\n",
    "print(\"Total number of elements N_k^3 N^4 = {:d}\".format(num_kpts**3*num_mo**4))\n",
    "print(\"number of symmetry unique non zero = {}\".format(sparse_ham.get_total_unique_terms_above_thresh()))"
   ]
  },
  {
   "attachments": {},
   "cell_type": "markdown",
   "metadata": {},
   "source": [
    "With the Hamiltonian in hand we can compute the 1-norm (called $\\lambda$) of the Hamiltonian which is essential for computing resource estimates."
   ]
  },
  {
   "cell_type": "code",
   "execution_count": 27,
   "metadata": {},
   "outputs": [],
   "source": [
    "from kpoint_eri.resource_estimates.sparse.compute_lambda_sparse import compute_lambda \n",
    "sparse_lambda = compute_lambda(hcore_mo, sparse_ham)"
   ]
  },
  {
   "attachments": {},
   "cell_type": "markdown",
   "metadata": {},
   "source": [
    "Finally we can compute the total resource costs. In particular the following code will compute the number of Toffoli gates required for a single step of phase estimation (`toffolis_per_step`), the total Toffoli count (`total_toffolis`), and the number of logical qubits (`logical_qubits`).\n",
    "\n",
    "The total Toffoli count is given by the toffoli per step cost multiplied by the factor \n",
    "\n",
    "$$\n",
    "\n",
    "\\left\\lceil \\frac{\\pi \\lambda}{2 \\epsilon_{\\mathrm{QPE}}} \\right\\rceil\n",
    "\n",
    "$$\n",
    "\n",
    "where $\\epsilon_{\\mathrm{QPE}}$ is our variable `dE_for_qpe`."
   ]
  },
  {
   "cell_type": "code",
   "execution_count": 28,
   "metadata": {},
   "outputs": [
    {
     "name": "stdout",
     "output_type": "stream",
     "text": [
      "ResourceEstimates(toffolis_per_step=2764, total_toffolis=2633287676, logical_qubits=1143)\n"
     ]
    }
   ],
   "source": [
    "from kpoint_eri.resource_estimates.sparse.compute_sparse_resources import cost_sparse\n",
    "num_spin_orbs = 2*num_mo \n",
    "resources = cost_sparse(num_spin_orbs, sparse_lambda.lambda_total, sparse_lambda.num_sym_unique , kmesh, dE_for_qpe=0.0016)\n",
    "print(resources)"
   ]
  },
  {
   "attachments": {},
   "cell_type": "markdown",
   "metadata": {},
   "source": [
    "We see there are the following steps required:\n",
    "\n",
    "1. Run an SCF calculation.\n",
    "2. Generate the one- and two-electron matrix elements.\n",
    "3. Compute the lambda value of the Hamiltonian. \n",
    "4. Compute the resource estimates.\n",
    "\n",
    "These steps are required for all four factorizations and involve a lot of boilerplate code. As such we provide utility functions which perform these necessary steps, and optionally scan over the value of the corresponding threshold parameter.\n",
    "\n",
    "Let's see how this works for the sparse factorization first."
   ]
  },
  {
   "cell_type": "code",
   "execution_count": 29,
   "metadata": {},
   "outputs": [
    {
     "ename": "TypeError",
     "evalue": "PBCResources.add_resources() got an unexpected keyword argument 'approx_energy'",
     "output_type": "error",
     "traceback": [
      "\u001b[0;31m---------------------------------------------------------------------------\u001b[0m",
      "\u001b[0;31mTypeError\u001b[0m                                 Traceback (most recent call last)",
      "\u001b[1;32m/usr/local/google/home/fmalone/projects/kpoint_eri/notebooks/resource_estimates.ipynb Cell 12\u001b[0m in \u001b[0;36m<cell line: 3>\u001b[0;34m()\u001b[0m\n\u001b[1;32m      <a href='vscode-notebook-cell://ssh-remote%2Bfmalone.c.googlers.com/usr/local/google/home/fmalone/projects/kpoint_eri/notebooks/resource_estimates.ipynb#X14sdnNjb2RlLXJlbW90ZQ%3D%3D?line=0'>1</a>\u001b[0m \u001b[39mfrom\u001b[39;00m \u001b[39mkpoint_eri\u001b[39;00m\u001b[39m.\u001b[39;00m\u001b[39mresource_estimates\u001b[39;00m\u001b[39m.\u001b[39;00m\u001b[39msparse\u001b[39;00m\u001b[39m.\u001b[39;00m\u001b[39mgenerate_costing_table_sparse\u001b[39;00m \u001b[39mimport\u001b[39;00m generate_costing_table\n\u001b[1;32m      <a href='vscode-notebook-cell://ssh-remote%2Bfmalone.c.googlers.com/usr/local/google/home/fmalone/projects/kpoint_eri/notebooks/resource_estimates.ipynb#X14sdnNjb2RlLXJlbW90ZQ%3D%3D?line=1'>2</a>\u001b[0m thresholds \u001b[39m=\u001b[39m np\u001b[39m.\u001b[39mlogspace(\u001b[39m-\u001b[39m\u001b[39m1\u001b[39m, \u001b[39m-\u001b[39m\u001b[39m5\u001b[39m, \u001b[39m6\u001b[39m)\n\u001b[0;32m----> <a href='vscode-notebook-cell://ssh-remote%2Bfmalone.c.googlers.com/usr/local/google/home/fmalone/projects/kpoint_eri/notebooks/resource_estimates.ipynb#X14sdnNjb2RlLXJlbW90ZQ%3D%3D?line=2'>3</a>\u001b[0m sparse_costing_table \u001b[39m=\u001b[39m generate_costing_table(mf, thresholds\u001b[39m=\u001b[39;49mthresholds)\n",
      "File \u001b[0;32m~/projects/kpoint_eri/kpoint_eri/resource_estimates/sparse/generate_costing_table_sparse.py:85\u001b[0m, in \u001b[0;36mgenerate_costing_table\u001b[0;34m(pyscf_mf, name, chi, thresholds, dE_for_qpe, energy_method)\u001b[0m\n\u001b[1;32m     75\u001b[0m     sparse_data \u001b[39m=\u001b[39m compute_lambda(hcore, sparse_helper)\n\u001b[1;32m     77\u001b[0m     sparse_res_cost \u001b[39m=\u001b[39m cost_sparse(\n\u001b[1;32m     78\u001b[0m         num_spin_orbs,\n\u001b[1;32m     79\u001b[0m         sparse_data\u001b[39m.\u001b[39mlambda_total,\n\u001b[0;32m   (...)\u001b[0m\n\u001b[1;32m     83\u001b[0m         chi\u001b[39m=\u001b[39mchi,\n\u001b[1;32m     84\u001b[0m     )\n\u001b[0;32m---> 85\u001b[0m     sparse_resource_obj\u001b[39m.\u001b[39;49madd_resources(\n\u001b[1;32m     86\u001b[0m         ham_properties\u001b[39m=\u001b[39;49msparse_data,\n\u001b[1;32m     87\u001b[0m         resource_estimates\u001b[39m=\u001b[39;49msparse_res_cost,\n\u001b[1;32m     88\u001b[0m         cutoff\u001b[39m=\u001b[39;49mthresh,\n\u001b[1;32m     89\u001b[0m         approx_energy\u001b[39m=\u001b[39;49mapprox_energy,\n\u001b[1;32m     90\u001b[0m     )\n\u001b[1;32m     92\u001b[0m \u001b[39mreturn\u001b[39;00m sparse_resource_obj\n",
      "\u001b[0;31mTypeError\u001b[0m: PBCResources.add_resources() got an unexpected keyword argument 'approx_energy'"
     ]
    }
   ],
   "source": [
    "from kpoint_eri.resource_estimates.sparse.generate_costing_table_sparse import generate_costing_table\n",
    "thresholds = np.logspace(-1, -5, 6)\n",
    "sparse_costing_table = generate_costing_table(mf, thresholds=thresholds)"
   ]
  },
  {
   "cell_type": "code",
   "execution_count": null,
   "metadata": {},
   "outputs": [],
   "source": [
    "df = sparse_costing_table.to_dataframe()\n",
    "print(df.to_string())"
   ]
  },
  {
   "attachments": {},
   "cell_type": "markdown",
   "metadata": {},
   "source": [
    "Let's look at the convergence of the MP2 error with the sparsity threshold."
   ]
  },
  {
   "cell_type": "code",
   "execution_count": null,
   "metadata": {},
   "outputs": [],
   "source": [
    "import matplotlib.pyplot as plt\n",
    "plt.rcParams['figure.dpi'] = 130 \n",
    "plt.plot(df.cutoff, np.abs(df.approx_energy-df.exact_energy), marker=\"o\")\n",
    "plt.xscale(\"log\")\n",
    "plt.yscale(\"log\")\n",
    "plt.xlabel(\"sparse threshold\")\n",
    "plt.ylabel(\"MP2 Energy Error (Ha)\")"
   ]
  },
  {
   "attachments": {},
   "cell_type": "markdown",
   "metadata": {},
   "source": [
    "## Single Factorization \n",
    "\n",
    "The single factorization Hamiltonian takes the following form:\n",
    "\n",
    "$$\n",
    "\n",
    "(p\\mathbf{k}q\\mathbf{k}-\\mathbf{Q}|r\\mathbf{k}'-\\mathbf{Q}s\\mathbf{k}') = \\sum_n^{M} L_{p\\mathbf{k}q\\mathbf{k}-\\mathbf{Q}}^n L_{s\\mathbf{k}'r\\mathbf{k}'-\\mathbf{Q}}^{n*} \n",
    "\n",
    "\n",
    "$$\n",
    "where $M$ is the dimension of auxiliary index $n$. "
   ]
  },
  {
   "cell_type": "code",
   "execution_count": null,
   "metadata": {},
   "outputs": [],
   "source": [
    "from kpoint_eri.resource_estimates.sf.generate_costing_table_sf import generate_costing_table\n",
    "cutoffs = np.linspace(10, naux, 8)\n",
    "sparse_costing_table = generate_costing_table(mf, cutoffs=thresholds)\n"
   ]
  },
  {
   "cell_type": "markdown",
   "metadata": {},
   "source": []
  }
 ],
 "metadata": {
  "kernelspec": {
   "display_name": "kpoint_eri",
   "language": "python",
   "name": "python3"
  },
  "language_info": {
   "codemirror_mode": {
    "name": "ipython",
    "version": 3
   },
   "file_extension": ".py",
   "mimetype": "text/x-python",
   "name": "python",
   "nbconvert_exporter": "python",
   "pygments_lexer": "ipython3",
   "version": "3.10.6"
  },
  "orig_nbformat": 4
 },
 "nbformat": 4,
 "nbformat_minor": 2
}
